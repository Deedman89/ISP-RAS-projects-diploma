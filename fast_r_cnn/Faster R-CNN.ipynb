{
 "cells": [
  {
   "cell_type": "code",
   "execution_count": 1,
   "metadata": {},
   "outputs": [],
   "source": [
    "import os\n",
    "import numpy as np\n",
    "import torch\n",
    "from PIL import Image\n",
    "import pathlib\n",
    "import utils\n",
    "import json"
   ]
  },
  {
   "cell_type": "code",
   "execution_count": 2,
   "metadata": {},
   "outputs": [],
   "source": [
    "class PubLayNetDataset(torch.utils.data.Dataset):\n",
    "    def __init__(self, root, transforms=None):\n",
    "        self.root = root\n",
    "        self.transforms = transforms\n",
    "        # load all image files, sorting them to ensure that they are aligned\n",
    "        self.imgs = list(sorted(os.listdir(os.path.join(root, \"Images\"))))\n",
    "        self.json = os.path.join(root, \"samples.json\")\n",
    "        with open(self.json) as f:\n",
    "            self.templates = json.load(f)\n",
    "            f.close()\n",
    "        self.images = {}\n",
    "        for image in self.templates['images']:\n",
    "            self.images[image['id']] = {'file_name': image['file_name'], 'annotations': []}\n",
    "        for ann in self.templates['annotations']:\n",
    "            self.images[ann['image_id']]['annotations'].append(ann)\n",
    "        self.keys = list(self.images.keys())\n",
    "        \n",
    "     \n",
    "    def __getitem__(self, idx):\n",
    "        # Load images\n",
    "        img_path = os.path.join(self.root, \"Images\", self.imgs[idx])\n",
    "        img = Image.open(img_path).convert(\"RGB\")        \n",
    "        # Get objects\n",
    "        objects_key = 0\n",
    "        for key in self.keys:\n",
    "            if self.images[key]['file_name'] == self.imgs[idx]:\n",
    "                objects_key = key\n",
    "                break               \n",
    "        objects = self.images[objects_key]['annotations']\n",
    "        boxes = []\n",
    "        labels = []\n",
    "        for object_ in objects:\n",
    "            # Get the label and boxes\n",
    "            label = object_['category_id']\n",
    "            labels.append(label)\n",
    "            bndbox = object_['bbox']\n",
    "            bndbox_max_min = [min(bndbox[0], bndbox[2]), min(bndbox[1], bndbox[3]),\n",
    "                              max(bndbox[0], bndbox[2]), max(bndbox[1], bndbox[3])]\n",
    "            boxes.append(bndbox_max_min)        \n",
    " \n",
    "        boxes = torch.as_tensor(boxes, dtype=torch.float32)\n",
    "        labels = torch.as_tensor(labels, dtype=torch.int64)        \n",
    " \n",
    "        image_id = torch.as_tensor([objects_key])\n",
    "        area = (boxes[:, 3] - boxes[:, 1]) * (boxes[:, 2] - boxes[:, 0])\n",
    "        # All instances are not crowd\n",
    "        iscrowd = torch.zeros((len(objects),), dtype=torch.int64)\n",
    " \n",
    "        target = {}\n",
    "        target[\"boxes\"] = boxes\n",
    "        target[\"labels\"] = labels\n",
    "        target[\"image_id\"] = image_id\n",
    "        target[\"area\"] = area\n",
    "        target[\"iscrowd\"] = iscrowd\n",
    " \n",
    "        if self.transforms is not None:\n",
    "            img, target = self.transforms(img, target)\n",
    " \n",
    "        return img, target\n",
    " \n",
    "    def __len__(self):\n",
    "        return len(self.imgs)"
   ]
  },
  {
   "cell_type": "code",
   "execution_count": 3,
   "metadata": {},
   "outputs": [],
   "source": [
    "root = '/media/kirb/ADATA HD680/examples/'"
   ]
  },
  {
   "cell_type": "code",
   "execution_count": 4,
   "metadata": {},
   "outputs": [],
   "source": [
    "publaynet = PubLayNetDataset(root)"
   ]
  },
  {
   "cell_type": "code",
   "execution_count": 5,
   "metadata": {},
   "outputs": [
    {
     "data": {
      "text/plain": [
       "(<PIL.Image.Image image mode=RGB size=601x792 at 0x7F0DA7B6F850>,\n",
       " {'boxes': tensor([[ 50.5800,  24.8100, 240.1200, 316.7500],\n",
       "          [ 50.5800, 105.3700, 240.1300, 339.4800],\n",
       "          [ 50.5800,  47.5500, 240.1100, 442.7900],\n",
       "          [ 50.5800, 149.8500, 240.1600, 488.2600],\n",
       "          [240.1100,  36.1700, 308.6100, 316.7500],\n",
       "          [ 50.5800, 106.3800, 240.1400, 636.0400],\n",
       "          [240.1800, 161.2200, 308.6100, 386.6400],\n",
       "          [240.1500, 197.3200, 308.6100, 545.7900],\n",
       "          [ 50.5800,  23.3200, 498.1300,  71.2000],\n",
       "          [ 51.9300,  10.9600,  82.4200, 278.7700],\n",
       "          [ 50.5800, 101.4200, 498.1400, 176.5700],\n",
       "          [ 71.0700,  12.8800, 308.6100, 367.5700]]),\n",
       "  'labels': tensor([1, 1, 1, 1, 1, 1, 1, 1, 1, 1, 4, 2]),\n",
       "  'image_id': tensor([407967]),\n",
       "  'area': tensor([ 55334.3047,  44375.5547,  74909.8438,  64155.7695,  19219.7266,\n",
       "          100402.3438,  15425.4902,  23856.2520,  21428.6914,   8165.5264,\n",
       "           33634.1367,  84253.0547]),\n",
       "  'iscrowd': tensor([0, 0, 0, 0, 0, 0, 0, 0, 0, 0, 0, 0])})"
      ]
     },
     "execution_count": 5,
     "metadata": {},
     "output_type": "execute_result"
    }
   ],
   "source": [
    "publaynet[0]"
   ]
  },
  {
   "cell_type": "code",
   "execution_count": 6,
   "metadata": {},
   "outputs": [
    {
     "data": {
      "text/plain": [
       "(<PIL.Image.Image image mode=RGB size=601x792 at 0x7F0C8B6A76D0>,\n",
       " {'boxes': tensor([[ 50.5800,  36.1700, 240.1200, 328.7300],\n",
       "          [ 50.5800, 115.7500, 240.1700, 362.8300],\n",
       "          [ 50.5800, 115.7500, 240.1400, 476.5100],\n",
       "          [ 50.5800,  81.6400, 240.1500, 590.1900],\n",
       "          [ 50.5800,  70.2800, 240.1700, 671.7500],\n",
       "          [240.1700, 138.4800, 308.6100, 328.7400],\n",
       "          [240.1400, 149.8500, 308.6100, 465.1600],\n",
       "          [240.1800,  47.5400, 308.6100, 612.9300],\n",
       "          [225.3900,  13.4400, 308.6100, 696.0400],\n",
       "          [ 50.5800,  33.0200, 498.1600, 276.6900],\n",
       "          [ 50.8300,  70.6800, 495.4100, 200.4100],\n",
       "          [222.8300,  24.8100, 325.9400, 718.3000],\n",
       "          [ 74.4700,  12.8800, 308.6100, 676.9600]]),\n",
       "  'labels': tensor([1, 1, 1, 1, 1, 1, 1, 1, 1, 1, 5, 3, 2]),\n",
       "  'image_id': tensor([379698]),\n",
       "  'area': tensor([ 55451.8203,  46843.8945,  68385.6641,  96405.8203, 114032.6875,\n",
       "           13021.3916,  21589.2715,  38689.6328,  56805.9609, 109061.8203,\n",
       "           57675.3711,  71505.7500, 155487.6875]),\n",
       "  'iscrowd': tensor([0, 0, 0, 0, 0, 0, 0, 0, 0, 0, 0, 0, 0])})"
      ]
     },
     "execution_count": 6,
     "metadata": {},
     "output_type": "execute_result"
    }
   ],
   "source": [
    "publaynet[1]"
   ]
  },
  {
   "cell_type": "code",
   "execution_count": null,
   "metadata": {},
   "outputs": [],
   "source": []
  }
 ],
 "metadata": {
  "kernelspec": {
   "display_name": "Python 3",
   "language": "python",
   "name": "python3"
  },
  "language_info": {
   "codemirror_mode": {
    "name": "ipython",
    "version": 3
   },
   "file_extension": ".py",
   "mimetype": "text/x-python",
   "name": "python",
   "nbconvert_exporter": "python",
   "pygments_lexer": "ipython3",
   "version": "3.8.10"
  }
 },
 "nbformat": 4,
 "nbformat_minor": 4
}
