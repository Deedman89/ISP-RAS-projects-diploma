{
 "cells": [
  {
   "cell_type": "code",
   "execution_count": 35,
   "metadata": {},
   "outputs": [],
   "source": [
    "import numpy as np\n",
    "import pandas as pd\n",
    "import matplotlib.pyplot as plt\n",
    "import os\n",
    "import torch\n",
    "from tqdm import tqdm\n",
    "import cv2\n",
    "from PIL import Image"
   ]
  },
  {
   "cell_type": "code",
   "execution_count": 19,
   "metadata": {},
   "outputs": [],
   "source": [
    "tz_names = os.listdir(r\"C:/Users/kirb2/Desktop/Diploma/ISP-RAS-projects-diploma/train_sample/tz\")\n",
    "npa_names = os.listdir(r\"C:/Users/kirb2/Desktop/Diploma/ISP-RAS-projects-diploma/train_sample/npa\")"
   ]
  },
  {
   "cell_type": "code",
   "execution_count": 153,
   "metadata": {},
   "outputs": [],
   "source": [
    "data = []\n",
    "labels = []"
   ]
  },
  {
   "cell_type": "code",
   "execution_count": 154,
   "metadata": {},
   "outputs": [],
   "source": [
    "def preprocess_image(input_image_path, output_image_path, width, height, label):\n",
    "    \n",
    "    original_image = Image.open(input_image_path)\n",
    "\n",
    "    if width and height:\n",
    "        size = (width, height)\n",
    "    else:\n",
    "        raise RuntimeError('Width or height required!')\n",
    " \n",
    "    resized_image = original_image.resize(max_size)\n",
    "    resized_image.save(output_image_path)\n",
    "    \n",
    "    data.append(np.array(resized_image))\n",
    "    labels.append(label)"
   ]
  },
  {
   "cell_type": "markdown",
   "metadata": {},
   "source": [
    "___Приведём все документы к стандартному размеру А4 2481x3507 пикселей___"
   ]
  },
  {
   "cell_type": "code",
   "execution_count": 155,
   "metadata": {},
   "outputs": [
    {
     "name": "stderr",
     "output_type": "stream",
     "text": [
      "100%|████████████████████████████████████████████████████████████████████████████████| 480/480 [02:04<00:00,  3.85it/s]\n"
     ]
    }
   ],
   "source": [
    "for image in tqdm(tz_names):\n",
    "    preprocess_image(\"C:/Users/kirb2/Desktop/Diploma/ISP-RAS-projects-diploma/train_sample/tz/\" + image,\n",
    "                \"C:/Users/kirb2/Desktop/Diploma/ISP-RAS-projects-diploma/Diploma_Task/data_set/tz/\" + image, \n",
    "                2481, 3507, 1)"
   ]
  },
  {
   "cell_type": "code",
   "execution_count": 156,
   "metadata": {},
   "outputs": [
    {
     "name": "stderr",
     "output_type": "stream",
     "text": [
      "100%|████████████████████████████████████████████████████████████████████████████████| 496/496 [02:22<00:00,  3.49it/s]\n"
     ]
    }
   ],
   "source": [
    "for image in tqdm(npa_names):\n",
    "    preprocess_image(\"C:/Users/kirb2/Desktop/Diploma/ISP-RAS-projects-diploma/train_sample/npa/\" + image,\n",
    "                \"C:/Users/kirb2/Desktop/Diploma/ISP-RAS-projects-diploma/Diploma_Task/data_set/npa/\" + image, \n",
    "                2481, 3507, 0)"
   ]
  },
  {
   "cell_type": "code",
   "execution_count": 163,
   "metadata": {},
   "outputs": [],
   "source": [
    "data = np.array(data)\n",
    "labels = np.array(labels)"
   ]
  },
  {
   "cell_type": "code",
   "execution_count": null,
   "metadata": {},
   "outputs": [],
   "source": []
  }
 ],
 "metadata": {
  "kernelspec": {
   "display_name": "Python 3",
   "language": "python",
   "name": "python3"
  },
  "language_info": {
   "codemirror_mode": {
    "name": "ipython",
    "version": 3
   },
   "file_extension": ".py",
   "mimetype": "text/x-python",
   "name": "python",
   "nbconvert_exporter": "python",
   "pygments_lexer": "ipython3",
   "version": "3.7.6"
  }
 },
 "nbformat": 4,
 "nbformat_minor": 4
}
